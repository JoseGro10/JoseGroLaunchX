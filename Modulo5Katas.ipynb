{
 "cells": [
  {
   "cell_type": "markdown",
   "metadata": {},
   "source": [
    "## Módulo 5 - Usar operaciones matematicas\n",
    "### Ejercicio 1 - Utilizar operadores aritmeticos"
   ]
  },
  {
   "cell_type": "code",
   "execution_count": 3,
   "metadata": {},
   "outputs": [
    {
     "name": "stdout",
     "output_type": "stream",
     "text": [
      "La distancia entre planetas es: 628949330\n",
      "La distancia entre planetas en millas es: 390577533.93\n"
     ]
    }
   ],
   "source": [
    "#Planetas a utilizar\n",
    "tierra = 149597870\n",
    "jupiter = 778547200\n",
    "\n",
    "#Se calcula la distancia \n",
    "distancia =  jupiter - tierra\n",
    "print('La distancia entre planetas es: '+str(distancia))\n",
    "\n",
    "#Se convierte el resultado en millas\n",
    "distancia = distancia * 0.621\n",
    "print('La distancia entre planetas en millas es: '+str(distancia))"
   ]
  },
  {
   "cell_type": "markdown",
   "metadata": {},
   "source": [
    "### Ejercicio 2: Convierte cadenas en numeros y usa valores absolutos"
   ]
  },
  {
   "cell_type": "code",
   "execution_count": 6,
   "metadata": {},
   "outputs": [
    {
     "name": "stdout",
     "output_type": "stream",
     "text": [
      "La distancia entre Mercurio y Neptuno es: 4437200000\n",
      "La distancia entre Mercurio y Neptuno en Millas es: 2755501200.0\n"
     ]
    }
   ],
   "source": [
    "#Pedimos los valores al usuario con los que va a trabajar\n",
    "\n",
    "nombrePlaneta1 = input('Ingresa el nombre del primer planeta')\n",
    "distanciaPlaneta1 = input('Ingresa la distancia del primer planeta')\n",
    "nombrePlaneta2 = input('Ingresa el nombre del segundo planeta')\n",
    "distanciaPlaneta2 = input('Ingresa la distancia del segundo planeta')\n",
    "\n",
    "#Se calcula la distancia \n",
    "distancia =  abs(int(distanciaPlaneta1) - int(distanciaPlaneta2))\n",
    "print('La distancia entre ' +nombrePlaneta1 +' y ' +nombrePlaneta2+ ' es: '+str(distancia))\n",
    "\n",
    "#Se convierte la distancia en Kilometros\n",
    "distancia = distancia * 0.621\n",
    "print('La distancia entre ' +nombrePlaneta1 +' y ' +nombrePlaneta2+ ' en Millas es: '+str(distancia))"
   ]
  }
 ],
 "metadata": {
  "interpreter": {
   "hash": "56cc1f41c4b3c052ffc1691cf0b6df07b029b1a51b3834cd464c2b4a95f3fdef"
  },
  "kernelspec": {
   "display_name": "Python 3.10.2 64-bit",
   "language": "python",
   "name": "python3"
  },
  "language_info": {
   "codemirror_mode": {
    "name": "ipython",
    "version": 3
   },
   "file_extension": ".py",
   "mimetype": "text/x-python",
   "name": "python",
   "nbconvert_exporter": "python",
   "pygments_lexer": "ipython3",
   "version": "3.10.2"
  },
  "orig_nbformat": 4
 },
 "nbformat": 4,
 "nbformat_minor": 2
}
