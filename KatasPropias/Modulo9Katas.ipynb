{
 "cells": [
  {
   "cell_type": "markdown",
   "metadata": {},
   "source": [
    "## Módulo 9 - Funciones\n",
    "### Ejercicio 1: Trabajar con argumentos en funciones"
   ]
  },
  {
   "cell_type": "code",
   "execution_count": 5,
   "metadata": {},
   "outputs": [
    {
     "name": "stdout",
     "output_type": "stream",
     "text": [
      "Reporte de 3 combustibles\n",
      "    Promedio 48.333333333333336%\n",
      "    Tanque 1: 50%, Tanque 2: 30% y Tanque 3: 65%\n",
      "    \n",
      "Reporte de 3 combustibles\n",
      "    Promedio 48.333333333333336%\n",
      "    Tanque 1: 50%, Tanque 2: 30% y Tanque 3: 65%\n",
      "    \n"
     ]
    }
   ],
   "source": [
    "# Función para leer 3 tanques de combustible y muestre el promedio\n",
    "def reporteTaques(tanque1,tanque2,tanque3):\n",
    "    promedio = (tanque1+tanque2+tanque3)/3\n",
    "    return f\"\"\"Reporte de 3 combustibles\n",
    "    Promedio {promedio}%\n",
    "    Tanque 1: {tanque1}%, Tanque 2: {tanque2}% y Tanque 3: {tanque3}%\n",
    "    \"\"\"\n",
    "\n",
    "# Llamamos a la función que genera el reporte print(funcion(tanque1, tanque2, tanque3))\n",
    "print(reporteTaques(50,30,65))\n",
    "\n",
    "# Función promedio \n",
    "def promedio (tanques):\n",
    "    total = sum(tanques)\n",
    "    n = len(tanques)\n",
    "    return total/n\n",
    "\n",
    "# Se prueba la funcion\n",
    "promedio([50,30,65])\n",
    "\n",
    "#Se actualiza la función\n",
    "def reporteActualizado(tanque1,tanque2,tanque3):\n",
    "    return f\"\"\"Reporte de 3 combustibles\n",
    "    Promedio {promedio([tanque1,tanque2,tanque3])}%\n",
    "    Tanque 1: {tanque1}%, Tanque 2: {tanque2}% y Tanque 3: {tanque3}%\n",
    "    \"\"\"\n",
    "\n",
    "#Se muestra el resultado\n",
    "print(reporteActualizado(50,30,65))"
   ]
  },
  {
   "cell_type": "markdown",
   "metadata": {},
   "source": [
    "### Ejercicio 2: Trabajar con argumentos de palabras clave en funciones"
   ]
  },
  {
   "cell_type": "code",
   "execution_count": 11,
   "metadata": {},
   "outputs": [
    {
     "name": "stdout",
     "output_type": "stream",
     "text": [
      " Reporte de la Misión\n",
      "    Hora de Prelanzamiento: 16:50,\n",
      "    Tiempo de vuelo: 20:00 hrs,\n",
      "    Destino: Marte,\n",
      "    Tanque externo: 90 litros,\n",
      "    Tanque interno: 100 litros,\n",
      "    Total en tanques: 190 litros\n",
      "    \n"
     ]
    }
   ],
   "source": [
    "# Función con un informe preciso de la misión. Considera hora de prelanzamiento, tiempo de vuelo, destino, tanque externo y tanque interno\n",
    "def  mision(prelanzamiento, tiempo, destino, tanqueExterno, tanqueInterno):\n",
    "    return f\"\"\" Reporte de la Misión\n",
    "    Hora de Prelanzamiento: {prelanzamiento},\n",
    "    Tiempo de vuelo: {tiempo} hrs,\n",
    "    Destino: {destino},\n",
    "    Tanque externo: {tanqueExterno} litros,\n",
    "    Tanque interno: {tanqueInterno} litros,\n",
    "    Total en tanques: {tanqueExterno+tanqueInterno} litros\n",
    "    \"\"\"\n",
    "\n",
    "print(mision(\"16:50\",\"20:00\",\"Marte\",90,100))    "
   ]
  },
  {
   "cell_type": "code",
   "execution_count": 12,
   "metadata": {},
   "outputs": [
    {
     "name": "stdout",
     "output_type": "stream",
     "text": [
      " Reporte de la Misión\n",
      "    Destino: Marte,\n",
      "    Total de horas de viaje: 460 hrs\n",
      "    Total de gasolina: 163000 litros\n",
      "    \n"
     ]
    }
   ],
   "source": [
    "# Escribe tu nueva función de reporte considerando lo anterior\n",
    "\n",
    "def  mision(destino,*minutos, **tanques):\n",
    "    return f\"\"\" Reporte de la Misión\n",
    "    Destino: {destino},\n",
    "    Total de horas de viaje: {sum(minutos)} hrs\n",
    "    Total de gasolina: {sum(tanques.values())} litros\n",
    "    \"\"\"\n",
    "\n",
    "print(mision('Marte',80,150,230,tanque1=25000,tanque2=30000,tanque3=42500,tanque4=65500))\n"
   ]
  },
  {
   "cell_type": "code",
   "execution_count": 13,
   "metadata": {},
   "outputs": [
    {
     "name": "stdout",
     "output_type": "stream",
     "text": [
      " Reporte de la Misión\n",
      "    Destino: Marte,\n",
      "    Total de horas de viaje: 460 hrs\n",
      "    Total de gasolina: 163000 litros\n",
      "    Lista de tanques \n",
      "     tanque1:25000 litros \n",
      " tanque2:30000 litros \n",
      " tanque3:42500 litros \n",
      " tanque4:65500 litros \n",
      "\n",
      "    \n"
     ]
    }
   ],
   "source": [
    "# Escribe tu nueva función\n",
    "def  mision(destino,*minutos, **tanques):\n",
    "    reporteTanques = ''\n",
    "    for nombreTanque, litros in tanques.items():\n",
    "        reporteTanques = f'{reporteTanques} {nombreTanque}:{litros} litros \\n' \n",
    "    return f\"\"\" Reporte de la Misión\n",
    "    Destino: {destino},\n",
    "    Total de horas de viaje: {sum(minutos)} hrs\n",
    "    Total de gasolina: {sum(tanques.values())} litros\n",
    "    Lista de tanques \n",
    "    {reporteTanques}\n",
    "    \"\"\"\n",
    "\n",
    "print(mision('Marte',80,150,230,tanque1=25000,tanque2=30000,tanque3=42500,tanque4=65500))    "
   ]
  }
 ],
 "metadata": {
  "interpreter": {
   "hash": "56cc1f41c4b3c052ffc1691cf0b6df07b029b1a51b3834cd464c2b4a95f3fdef"
  },
  "kernelspec": {
   "display_name": "Python 3.10.2 64-bit",
   "language": "python",
   "name": "python3"
  },
  "language_info": {
   "codemirror_mode": {
    "name": "ipython",
    "version": 3
   },
   "file_extension": ".py",
   "mimetype": "text/x-python",
   "name": "python",
   "nbconvert_exporter": "python",
   "pygments_lexer": "ipython3",
   "version": "3.10.2"
  },
  "orig_nbformat": 4
 },
 "nbformat": 4,
 "nbformat_minor": 2
}
