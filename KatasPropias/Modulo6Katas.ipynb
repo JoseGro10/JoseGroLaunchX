{
 "cells": [
  {
   "cell_type": "markdown",
   "metadata": {},
   "source": [
    "## Módulo  - Introducción a las listas\n",
    "### Ejercicio 1: Crear y usar listas de Python"
   ]
  },
  {
   "cell_type": "code",
   "execution_count": 2,
   "metadata": {},
   "outputs": [
    {
     "name": "stdout",
     "output_type": "stream",
     "text": [
      "['Mercurio', 'Venus', 'Tierra', 'Marte', 'Jupiter', 'Saturno', 'Neptuno']\n",
      "El último de la lista y agregado es: Plutón\n"
     ]
    }
   ],
   "source": [
    "# Crea la lista de planetas y la mostramos (Sin Plutón)\n",
    "planets = ['Mercurio', 'Venus', 'Tierra', 'Marte', 'Jupiter', 'Saturno', 'Neptuno']\n",
    "print(planets)\n",
    "\n",
    "# Agregamos a la lista a Plutón y mostramos el último elemento\n",
    "planets.append('Plutón')\n",
    "print(\"El último de la lista y agregado es: \"+planets[-1])"
   ]
  },
  {
   "cell_type": "markdown",
   "metadata": {},
   "source": [
    "### Ejercicio 2: Trabajando con datos de una lista"
   ]
  },
  {
   "cell_type": "code",
   "execution_count": 9,
   "metadata": {},
   "outputs": [
    {
     "name": "stdout",
     "output_type": "stream",
     "text": [
      "Planeta mas cercano al sol: Earth\n",
      "['Mercury', 'Venus']\n",
      "Planeta mas lejano al sol que: Earth\n",
      "['Mars', 'Jupiter', 'Saturn', 'Neptune', 'Earth']\n"
     ]
    }
   ],
   "source": [
    "# Lista de planetas\n",
    "planets = ['Mercury', 'Venus', 'Earth', 'Mars', 'Jupiter', 'Saturn', 'Neptune']\n",
    "# Solicitamos el nombre de un planeta *Pista:  input()*\n",
    "newPlanet = input('Escribe el nombre del planeta comenzando con letra mayúsucula')\n",
    "planets.append(newPlanet)\n",
    "# Busca el planeta en la lista\n",
    "search = planets.index(newPlanet)\n",
    "# Muestra los planetas más cercanos al sol\n",
    "print('Planeta mas cercano al sol: '+newPlanet)\n",
    "print(planets[0:search])\n",
    "# Muestra los planetas más lejanos al sol\n",
    "print('Planeta mas lejano al sol que: '+newPlanet )\n",
    "print(planets[search+1:])"
   ]
  }
 ],
 "metadata": {
  "interpreter": {
   "hash": "56cc1f41c4b3c052ffc1691cf0b6df07b029b1a51b3834cd464c2b4a95f3fdef"
  },
  "kernelspec": {
   "display_name": "Python 3.10.2 64-bit",
   "language": "python",
   "name": "python3"
  },
  "language_info": {
   "codemirror_mode": {
    "name": "ipython",
    "version": 3
   },
   "file_extension": ".py",
   "mimetype": "text/x-python",
   "name": "python",
   "nbconvert_exporter": "python",
   "pygments_lexer": "ipython3",
   "version": "3.10.2"
  },
  "orig_nbformat": 4
 },
 "nbformat": 4,
 "nbformat_minor": 2
}
