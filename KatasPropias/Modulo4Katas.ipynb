{
 "cells": [
  {
   "cell_type": "markdown",
   "metadata": {},
   "source": [
    "# Módulo 4 -  Cadenas\n",
    "### Ejercicio 1: Transformar cadenas"
   ]
  },
  {
   "cell_type": "code",
   "execution_count": 14,
   "metadata": {},
   "outputs": [
    {
     "name": "stdout",
     "output_type": "stream",
     "text": [
      "Interesting facts about the Moon. The Moon is Earth's only satellite. There are several interesting facts about the Moon and how it affects life here on Earth. \n",
      "On average, the Moon moves 4cm away from the Earth every year. This yearly drift is not significant enough to cause immediate effects on Earth. The highest daylight temperature of the Moon is 127 C.\n",
      "['Interesting facts about the Moon', \" The Moon is Earth's only satellite\", ' There are several interesting facts about the Moon and how it affects life here on Earth', ' \\nOn average, the Moon moves 4cm away from the Earth every year', ' This yearly drift is not significant enough to cause immediate effects on Earth', ' The highest daylight temperature of the Moon is 127 C', '']\n",
      "['average', 'temperature', 'distance']\n",
      " \n",
      "On average, the Moon moves 4cm away from the Earth every year\n",
      " The highest daylight temperature of the Moon is 127 C\n",
      " \n",
      "On average, the Moon moves 4cm away from the Earth every year\n",
      " The highest daylight temperature of the Moon is 127  Celsius\n"
     ]
    }
   ],
   "source": [
    "## Variable de Texto con la que se trabajara\n",
    "text = \"\"\"Interesting facts about the Moon. The Moon is Earth's only satellite. There are several interesting facts about the Moon and how it affects life here on Earth. \n",
    "On average, the Moon moves 4cm away from the Earth every year. This yearly drift is not significant enough to cause immediate effects on Earth. The highest daylight temperature of the Moon is 127 C.\"\"\"\n",
    "print(text)\n",
    "\n",
    "#Primero se divide el texto en cada oración para trabajar con su contenido por \".\"\n",
    "partes_text = text.split('.')\n",
    "print(partes_text)\n",
    "\n",
    "#Buscar las siguientes palabras pista: average, temperature y distance \n",
    "palabras_clave = ['average', 'temperature', 'distance']\n",
    "print(palabras_clave)\n",
    "\n",
    "#Crear un bucle para imprimir solo datos sobre la luna que esten relacionados con las palabras  clave\n",
    "for texto in partes_text:\n",
    " for clave in palabras_clave:\n",
    "     if clave in texto:\n",
    "         print(texto)\n",
    "\n",
    "#Finalmente, actualiza el bucle, para cambiar C a Celsius\n",
    "for texto in partes_text:\n",
    " for clave in palabras_clave:\n",
    "     if clave in texto:\n",
    "         print(texto.replace('C',' Celsius'))"
   ]
  },
  {
   "cell_type": "markdown",
   "metadata": {},
   "source": [
    "##Ejercicio 2: Formateando cadenas"
   ]
  },
  {
   "cell_type": "code",
   "execution_count": 23,
   "metadata": {},
   "outputs": [
    {
     "name": "stdout",
     "output_type": "stream",
     "text": [
      "\n",
      "Datos Sobre La Gravedad De Marte\n",
      "----------------------------------------------------------------------------------------------------\n",
      "Nombre del planeta: Ganimedes\n",
      "La gravedad en Marte: 0.00143 m/s2\n",
      "\n",
      "\n",
      "Datos Sobre La Gravedad De Marte\n",
      "----------------------------------------------------------------------------------------------------\n",
      "Nombre del planeta: Ganimedes\n",
      "La gravedad en Marte: 1.4300000000000002 m/s2\n",
      "\n"
     ]
    }
   ],
   "source": [
    "# Datos con los que vas a trabajar\n",
    "name = \"Moon\"\n",
    "gravity = 0.00162 # in kms\n",
    "planet = \"Earth\"\n",
    "\n",
    "# Creamos el titulo\n",
    "titulo = f'datos sobre la gravedad de {name}'\n",
    "# Creamos la plantilla\n",
    "texto = f\"\"\"{'-'*100}\n",
    "Nombre del planeta: {planet}\n",
    "La gravedad en {name}: {gravity*100} m/s2\n",
    "\"\"\"\n",
    "#Finalmente Union de ambas cadenas\n",
    "textoFinal = f\"\"\"{titulo.title()}\n",
    "{texto}\n",
    "\"\"\"\n",
    "#Comprueba la plantilla\n",
    "#print(textoFinal)\n",
    "\n",
    "#Utilizamos otros datos\n",
    "name = \"Marte\"\n",
    "gravity = 0.00143 # in kms\n",
    "planet = \"Ganimedes\"\n",
    "\n",
    "#Comprueba la plantilla\n",
    "#print(textoFinal)\n",
    "\n",
    "nueva = \"\"\"\n",
    "Datos Sobre La Gravedad De {name}\n",
    "----------------------------------------------------------------------------------------------------\n",
    "Nombre del planeta: {planet}\n",
    "La gravedad en {name}: {gravity} m/s2\n",
    "\"\"\"\n",
    "\n",
    "print(nueva.format(name=name, gravity=gravity, planet=planet))\n",
    "\n",
    "print(nueva.format(name=name, gravity=gravity*1000, planet=planet))"
   ]
  }
 ],
 "metadata": {
  "interpreter": {
   "hash": "56cc1f41c4b3c052ffc1691cf0b6df07b029b1a51b3834cd464c2b4a95f3fdef"
  },
  "kernelspec": {
   "display_name": "Python 3.10.2 64-bit",
   "language": "python",
   "name": "python3"
  },
  "language_info": {
   "codemirror_mode": {
    "name": "ipython",
    "version": 3
   },
   "file_extension": ".py",
   "mimetype": "text/x-python",
   "name": "python",
   "nbconvert_exporter": "python",
   "pygments_lexer": "ipython3",
   "version": "3.10.2"
  },
  "orig_nbformat": 4
 },
 "nbformat": 4,
 "nbformat_minor": 2
}
